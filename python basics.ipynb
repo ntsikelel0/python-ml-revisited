{
 "cells": [
  {
   "cell_type": "code",
   "execution_count": null,
   "id": "888c3947",
   "metadata": {},
   "outputs": [],
   "source": []
  },
  {
   "cell_type": "code",
   "execution_count": null,
   "id": "6becea3f",
   "metadata": {},
   "outputs": [],
   "source": []
  },
  {
   "cell_type": "code",
   "execution_count": 1,
   "id": "28fe871c",
   "metadata": {},
   "outputs": [
    {
     "name": "stdout",
     "output_type": "stream",
     "text": [
      "Hello World\n"
     ]
    }
   ],
   "source": [
    "print(\"Hello World\")"
   ]
  },
  {
   "cell_type": "code",
   "execution_count": 2,
   "id": "51b49f9d",
   "metadata": {},
   "outputs": [
    {
     "name": "stdout",
     "output_type": "stream",
     "text": [
      "The Zen of Python, by Tim Peters\n",
      "\n",
      "Beautiful is better than ugly.\n",
      "Explicit is better than implicit.\n",
      "Simple is better than complex.\n",
      "Complex is better than complicated.\n",
      "Flat is better than nested.\n",
      "Sparse is better than dense.\n",
      "Readability counts.\n",
      "Special cases aren't special enough to break the rules.\n",
      "Although practicality beats purity.\n",
      "Errors should never pass silently.\n",
      "Unless explicitly silenced.\n",
      "In the face of ambiguity, refuse the temptation to guess.\n",
      "There should be one-- and preferably only one --obvious way to do it.\n",
      "Although that way may not be obvious at first unless you're Dutch.\n",
      "Now is better than never.\n",
      "Although never is often better than *right* now.\n",
      "If the implementation is hard to explain, it's a bad idea.\n",
      "If the implementation is easy to explain, it may be a good idea.\n",
      "Namespaces are one honking great idea -- let's do more of those!\n"
     ]
    }
   ],
   "source": [
    "import this"
   ]
  },
  {
   "cell_type": "code",
   "execution_count": 3,
   "id": "9eac57f7",
   "metadata": {},
   "outputs": [],
   "source": [
    "a = 300"
   ]
  },
  {
   "cell_type": "code",
   "execution_count": 5,
   "id": "7d47972f",
   "metadata": {},
   "outputs": [
    {
     "name": "stdout",
     "output_type": "stream",
     "text": [
      "300\n"
     ]
    }
   ],
   "source": [
    "print(a)"
   ]
  },
  {
   "cell_type": "code",
   "execution_count": 6,
   "id": "8e0b41c8",
   "metadata": {},
   "outputs": [
    {
     "data": {
      "text/plain": [
       "4395149680"
      ]
     },
     "execution_count": 6,
     "metadata": {},
     "output_type": "execute_result"
    }
   ],
   "source": [
    "id(a)"
   ]
  },
  {
   "cell_type": "code",
   "execution_count": 7,
   "id": "60cedd97",
   "metadata": {},
   "outputs": [
    {
     "data": {
      "text/plain": [
       "int"
      ]
     },
     "execution_count": 7,
     "metadata": {},
     "output_type": "execute_result"
    }
   ],
   "source": [
    "type(a)"
   ]
  },
  {
   "cell_type": "code",
   "execution_count": 8,
   "id": "49858030",
   "metadata": {},
   "outputs": [],
   "source": [
    "b = \"ntsiki\""
   ]
  },
  {
   "cell_type": "code",
   "execution_count": 9,
   "id": "086300fb",
   "metadata": {},
   "outputs": [
    {
     "name": "stdout",
     "output_type": "stream",
     "text": [
      "ntsiki\n"
     ]
    }
   ],
   "source": [
    "print(b)"
   ]
  },
  {
   "cell_type": "code",
   "execution_count": 10,
   "id": "a0c56a4c",
   "metadata": {},
   "outputs": [
    {
     "data": {
      "text/plain": [
       "str"
      ]
     },
     "execution_count": 10,
     "metadata": {},
     "output_type": "execute_result"
    }
   ],
   "source": [
    "type(b)"
   ]
  },
  {
   "cell_type": "code",
   "execution_count": 11,
   "id": "1a19dc98",
   "metadata": {},
   "outputs": [
    {
     "data": {
      "text/plain": [
       "4395587504"
      ]
     },
     "execution_count": 11,
     "metadata": {},
     "output_type": "execute_result"
    }
   ],
   "source": [
    "id(b)"
   ]
  },
  {
   "cell_type": "code",
   "execution_count": 12,
   "id": "12592053",
   "metadata": {},
   "outputs": [
    {
     "data": {
      "text/plain": [
       "4"
      ]
     },
     "execution_count": 12,
     "metadata": {},
     "output_type": "execute_result"
    }
   ],
   "source": [
    "import sys\n",
    "sys.getrefcount(a)"
   ]
  },
  {
   "cell_type": "code",
   "execution_count": null,
   "id": "28090297",
   "metadata": {},
   "outputs": [],
   "source": [
    "# In Python everything is an object, and an object has an id, type, value and reference count.\n",
    "\n",
    "# id: where its living in memory\n",
    "# type: what is the type of the object\n",
    "# value: the information that it is holding\n",
    "# reference count: how many things are pointing at that object    "
   ]
  },
  {
   "cell_type": "code",
   "execution_count": null,
   "id": "74fc6c7d",
   "metadata": {},
   "outputs": [],
   "source": []
  },
  {
   "cell_type": "code",
   "execution_count": null,
   "id": "81251668",
   "metadata": {},
   "outputs": [],
   "source": [
    "##################################################################"
   ]
  },
  {
   "cell_type": "code",
   "execution_count": null,
   "id": "80691c7a",
   "metadata": {},
   "outputs": [],
   "source": [
    "# LITERALS"
   ]
  },
  {
   "cell_type": "code",
   "execution_count": 13,
   "id": "c719f7c5",
   "metadata": {},
   "outputs": [],
   "source": [
    "name = 'Ntsiki \\N{GRINNING FACE}' # literal"
   ]
  },
  {
   "cell_type": "code",
   "execution_count": 14,
   "id": "84e8dcb0",
   "metadata": {},
   "outputs": [
    {
     "name": "stdout",
     "output_type": "stream",
     "text": [
      "Ntsiki 😀\n"
     ]
    }
   ],
   "source": [
    "print(name)"
   ]
  },
  {
   "cell_type": "code",
   "execution_count": 15,
   "id": "6f1d597c",
   "metadata": {},
   "outputs": [
    {
     "data": {
      "text/plain": [
       "'Ntsiki 😀'"
      ]
     },
     "execution_count": 15,
     "metadata": {},
     "output_type": "execute_result"
    }
   ],
   "source": [
    "name"
   ]
  },
  {
   "cell_type": "code",
   "execution_count": 16,
   "id": "020174f1",
   "metadata": {},
   "outputs": [],
   "source": [
    "age_string = str(32) # using string constructor"
   ]
  },
  {
   "cell_type": "code",
   "execution_count": 18,
   "id": "b31866d0",
   "metadata": {},
   "outputs": [
    {
     "data": {
      "text/plain": [
       "'32'"
      ]
     },
     "execution_count": 18,
     "metadata": {},
     "output_type": "execute_result"
    }
   ],
   "source": [
    "age_string"
   ]
  },
  {
   "cell_type": "code",
   "execution_count": 20,
   "id": "c4d25137",
   "metadata": {},
   "outputs": [],
   "source": [
    "# Constructor in parens\n",
    "age = 32       # integer literal is (int)\n",
    "cost = 15.5    # float literal is (float)\n",
    "loc = 1 + 0j   # complex literal is (complex)"
   ]
  },
  {
   "cell_type": "code",
   "execution_count": 24,
   "id": "6726f67e",
   "metadata": {},
   "outputs": [
    {
     "data": {
      "text/plain": [
       "['Ntsiki 😀', 'ntsiki', 'natasha']"
      ]
     },
     "execution_count": 24,
     "metadata": {},
     "output_type": "execute_result"
    }
   ],
   "source": [
    "# List literal\n",
    "names = [name, 'ntsiki', 'natasha']\n",
    "names"
   ]
  },
  {
   "cell_type": "code",
   "execution_count": 25,
   "id": "e2d6ded4",
   "metadata": {},
   "outputs": [
    {
     "data": {
      "text/plain": [
       "['a', 'e', 'i', 'o', 'u']"
      ]
     },
     "execution_count": 25,
     "metadata": {},
     "output_type": "execute_result"
    }
   ],
   "source": [
    "# Constructor is different to Lateral\n",
    "vowels = list('aeiou')   # constructor\n",
    "vowels"
   ]
  },
  {
   "cell_type": "code",
   "execution_count": 26,
   "id": "4f78371b",
   "metadata": {},
   "outputs": [],
   "source": [
    "# Python treats a string as a sequence of characters within the string"
   ]
  },
  {
   "cell_type": "code",
   "execution_count": 28,
   "id": "a313d4bc",
   "metadata": {},
   "outputs": [
    {
     "data": {
      "text/plain": [
       "['aeiou']"
      ]
     },
     "execution_count": 28,
     "metadata": {},
     "output_type": "execute_result"
    }
   ],
   "source": [
    "['aeiou']"
   ]
  },
  {
   "cell_type": "code",
   "execution_count": 29,
   "id": "9da1655f",
   "metadata": {},
   "outputs": [],
   "source": [
    "# Tuple literal\n",
    "person1 = ('Ntiki', 32, 'Unit 217, The OX, Ferndale, Randburg, Gauteng')\n",
    "person2 = tuple(['Mama', 53, '25, 15th Street, Broadlands-Village, Strand, Cape Town, Western Cape']) # constructor"
   ]
  },
  {
   "cell_type": "code",
   "execution_count": 30,
   "id": "599168ed",
   "metadata": {},
   "outputs": [
    {
     "data": {
      "text/plain": [
       "('Mama',\n",
       " 53,\n",
       " '25, 15th Street, Broadlands-Village, Strand, Cape Town, Western Cape')"
      ]
     },
     "execution_count": 30,
     "metadata": {},
     "output_type": "execute_result"
    }
   ],
   "source": [
    "person2"
   ]
  },
  {
   "cell_type": "code",
   "execution_count": 31,
   "id": "239abda2",
   "metadata": {},
   "outputs": [
    {
     "data": {
      "text/plain": [
       "('Ntiki', 32, 'Unit 217, The OX, Ferndale, Randburg, Gauteng')"
      ]
     },
     "execution_count": 31,
     "metadata": {},
     "output_type": "execute_result"
    }
   ],
   "source": [
    "person1"
   ]
  },
  {
   "cell_type": "code",
   "execution_count": 32,
   "id": "beb91592",
   "metadata": {},
   "outputs": [],
   "source": [
    "#Dictionary\n",
    "types = {'name': 'string', 'age':'int'} # literal\n",
    "ages = dict(zip(['Ntsiki', 'Mama'],[32, 53])) # constructor\n",
    "types2 = dict(name = 'string', age = 'int') # constructor"
   ]
  },
  {
   "cell_type": "code",
   "execution_count": 34,
   "id": "fb4168dc",
   "metadata": {},
   "outputs": [
    {
     "data": {
      "text/plain": [
       "{'Ntsiki': 32, 'Mama': 53}"
      ]
     },
     "execution_count": 34,
     "metadata": {},
     "output_type": "execute_result"
    }
   ],
   "source": [
    "ages"
   ]
  },
  {
   "cell_type": "code",
   "execution_count": 35,
   "id": "c2b9a7eb",
   "metadata": {},
   "outputs": [
    {
     "data": {
      "text/plain": [
       "{'name': 'string', 'age': 'int'}"
      ]
     },
     "execution_count": 35,
     "metadata": {},
     "output_type": "execute_result"
    }
   ],
   "source": [
    "types"
   ]
  },
  {
   "cell_type": "code",
   "execution_count": 36,
   "id": "8b26d9fe",
   "metadata": {},
   "outputs": [
    {
     "data": {
      "text/plain": [
       "{'name': 'string', 'age': 'int'}"
      ]
     },
     "execution_count": 36,
     "metadata": {},
     "output_type": "execute_result"
    }
   ],
   "source": [
    "types2"
   ]
  },
  {
   "cell_type": "code",
   "execution_count": 37,
   "id": "48fe2bc2",
   "metadata": {},
   "outputs": [],
   "source": [
    "# Set\n",
    "digits = {0,1,2,3,4,6,5,8,5,6}\n",
    "unique_chars = set('lorem ipsum dolor')"
   ]
  },
  {
   "cell_type": "code",
   "execution_count": 38,
   "id": "5c9ea3cd",
   "metadata": {},
   "outputs": [
    {
     "data": {
      "text/plain": [
       "{0, 1, 2, 3, 4, 5, 6, 8}"
      ]
     },
     "execution_count": 38,
     "metadata": {},
     "output_type": "execute_result"
    }
   ],
   "source": [
    "digits"
   ]
  },
  {
   "cell_type": "code",
   "execution_count": 39,
   "id": "c9960fc3",
   "metadata": {},
   "outputs": [
    {
     "data": {
      "text/plain": [
       "{' ', 'd', 'e', 'i', 'l', 'm', 'o', 'p', 'r', 's', 'u'}"
      ]
     },
     "execution_count": 39,
     "metadata": {},
     "output_type": "execute_result"
    }
   ],
   "source": [
    "unique_chars"
   ]
  },
  {
   "cell_type": "code",
   "execution_count": 40,
   "id": "f2864d79",
   "metadata": {},
   "outputs": [
    {
     "name": "stdout",
     "output_type": "stream",
     "text": [
      "['ArithmeticError', 'AssertionError', 'AttributeError', 'BaseException', 'BaseExceptionGroup', 'BlockingIOError', 'BrokenPipeError', 'BufferError', 'BytesWarning', 'ChildProcessError', 'ConnectionAbortedError', 'ConnectionError', 'ConnectionRefusedError', 'ConnectionResetError', 'DeprecationWarning', 'EOFError', 'Ellipsis', 'EncodingWarning', 'EnvironmentError', 'Exception', 'ExceptionGroup', 'False', 'FileExistsError', 'FileNotFoundError', 'FloatingPointError', 'FutureWarning', 'GeneratorExit', 'IOError', 'ImportError', 'ImportWarning', 'IndentationError', 'IndexError', 'InterruptedError', 'IsADirectoryError', 'KeyError', 'KeyboardInterrupt', 'LookupError', 'MemoryError', 'ModuleNotFoundError', 'NameError', 'None', 'NotADirectoryError', 'NotImplemented', 'NotImplementedError', 'OSError', 'OverflowError', 'PendingDeprecationWarning', 'PermissionError', 'ProcessLookupError', 'RecursionError', 'ReferenceError', 'ResourceWarning', 'RuntimeError', 'RuntimeWarning', 'StopAsyncIteration', 'StopIteration', 'SyntaxError', 'SyntaxWarning', 'SystemError', 'SystemExit', 'TabError', 'TimeoutError', 'True', 'TypeError', 'UnboundLocalError', 'UnicodeDecodeError', 'UnicodeEncodeError', 'UnicodeError', 'UnicodeTranslateError', 'UnicodeWarning', 'UserWarning', 'ValueError', 'Warning', 'ZeroDivisionError', '__IPYTHON__', '__build_class__', '__debug__', '__doc__', '__import__', '__loader__', '__name__', '__package__', '__spec__', 'abs', 'aiter', 'all', 'anext', 'any', 'ascii', 'bin', 'bool', 'breakpoint', 'bytearray', 'bytes', 'callable', 'chr', 'classmethod', 'compile', 'complex', 'copyright', 'credits', 'delattr', 'dict', 'dir', 'display', 'divmod', 'enumerate', 'eval', 'exec', 'execfile', 'filter', 'float', 'format', 'frozenset', 'get_ipython', 'getattr', 'globals', 'hasattr', 'hash', 'help', 'hex', 'id', 'input', 'int', 'isinstance', 'issubclass', 'iter', 'len', 'license', 'list', 'locals', 'map', 'max', 'memoryview', 'min', 'next', 'object', 'oct', 'open', 'ord', 'pow', 'print', 'property', 'range', 'repr', 'reversed', 'round', 'runfile', 'set', 'setattr', 'slice', 'sorted', 'staticmethod', 'str', 'sum', 'super', 'tuple', 'type', 'vars', 'zip']\n"
     ]
    }
   ],
   "source": [
    "# where to find the builtin constructors ?\n",
    "print(dir(__builtins__))"
   ]
  },
  {
   "cell_type": "code",
   "execution_count": 41,
   "id": "89ef8cc3",
   "metadata": {},
   "outputs": [
    {
     "data": {
      "text/plain": [
       "52"
      ]
     },
     "execution_count": 41,
     "metadata": {},
     "output_type": "execute_result"
    }
   ],
   "source": [
    "# BASIC MATH OPERATIONS IN PYTHON\n",
    "\n",
    "# addition, subtraction, multiplication, division, modulus\n",
    "\n",
    "42+10"
   ]
  },
  {
   "cell_type": "code",
   "execution_count": 42,
   "id": "4b20961b",
   "metadata": {},
   "outputs": [
    {
     "data": {
      "text/plain": [
       "3833759992447475122176"
      ]
     },
     "execution_count": 42,
     "metadata": {},
     "output_type": "execute_result"
    }
   ],
   "source": [
    "12**20"
   ]
  },
  {
   "cell_type": "code",
   "execution_count": 43,
   "id": "c9fe4095",
   "metadata": {},
   "outputs": [
    {
     "data": {
      "text/plain": [
       "1"
      ]
     },
     "execution_count": 43,
     "metadata": {},
     "output_type": "execute_result"
    }
   ],
   "source": [
    "57% 2"
   ]
  },
  {
   "cell_type": "code",
   "execution_count": 44,
   "id": "4c19c73e",
   "metadata": {},
   "outputs": [
    {
     "data": {
      "text/plain": [
       "7.5"
      ]
     },
     "execution_count": 44,
     "metadata": {},
     "output_type": "execute_result"
    }
   ],
   "source": [
    "# Number Tower Hieararchy: int, float, complex\n",
    "3 + 4.5"
   ]
  },
  {
   "cell_type": "code",
   "execution_count": 45,
   "id": "a0069c03",
   "metadata": {},
   "outputs": [
    {
     "data": {
      "text/plain": [
       "(-1-4j)"
      ]
     },
     "execution_count": 45,
     "metadata": {},
     "output_type": "execute_result"
    }
   ],
   "source": [
    "1 - (2+4j)"
   ]
  },
  {
   "cell_type": "code",
   "execution_count": 46,
   "id": "d15abe19",
   "metadata": {},
   "outputs": [
    {
     "name": "stdout",
     "output_type": "stream",
     "text": [
      "['__abs__', '__add__', '__and__', '__bool__', '__ceil__', '__class__', '__delattr__', '__dir__', '__divmod__', '__doc__', '__eq__', '__float__', '__floor__', '__floordiv__', '__format__', '__ge__', '__getattribute__', '__getnewargs__', '__getstate__', '__gt__', '__hash__', '__index__', '__init__', '__init_subclass__', '__int__', '__invert__', '__le__', '__lshift__', '__lt__', '__mod__', '__mul__', '__ne__', '__neg__', '__new__', '__or__', '__pos__', '__pow__', '__radd__', '__rand__', '__rdivmod__', '__reduce__', '__reduce_ex__', '__repr__', '__rfloordiv__', '__rlshift__', '__rmod__', '__rmul__', '__ror__', '__round__', '__rpow__', '__rrshift__', '__rshift__', '__rsub__', '__rtruediv__', '__rxor__', '__setattr__', '__sizeof__', '__str__', '__sub__', '__subclasshook__', '__truediv__', '__trunc__', '__xor__', 'as_integer_ratio', 'bit_count', 'bit_length', 'conjugate', 'denominator', 'from_bytes', 'imag', 'numerator', 'real', 'to_bytes']\n"
     ]
    }
   ],
   "source": [
    "# INTEGERS ARE OBJECTS\n",
    "print(dir(42))"
   ]
  },
  {
   "cell_type": "code",
   "execution_count": 48,
   "id": "28734a06",
   "metadata": {},
   "outputs": [
    {
     "data": {
      "text/plain": [
       "6"
      ]
     },
     "execution_count": 48,
     "metadata": {},
     "output_type": "execute_result"
    }
   ],
   "source": [
    "(42).bit_length()"
   ]
  },
  {
   "cell_type": "code",
   "execution_count": 51,
   "id": "b506e996",
   "metadata": {},
   "outputs": [
    {
     "data": {
      "text/plain": [
       "52"
      ]
     },
     "execution_count": 51,
     "metadata": {},
     "output_type": "execute_result"
    }
   ],
   "source": [
    "# DUNDERS - dunder methods\n",
    "42 + 10 # in this operation the __add__ dunder method gets called"
   ]
  },
  {
   "cell_type": "code",
   "execution_count": 54,
   "id": "8fd73c12",
   "metadata": {},
   "outputs": [
    {
     "data": {
      "text/plain": [
       "52"
      ]
     },
     "execution_count": 54,
     "metadata": {},
     "output_type": "execute_result"
    }
   ],
   "source": [
    "# example\n",
    "\n",
    "(42).__add__(10)"
   ]
  },
  {
   "cell_type": "code",
   "execution_count": 55,
   "id": "617a255f",
   "metadata": {},
   "outputs": [],
   "source": [
    "# STRINGS AND ENCODING\n",
    "name = 'ntsiki'"
   ]
  },
  {
   "cell_type": "code",
   "execution_count": 56,
   "id": "305ea236",
   "metadata": {},
   "outputs": [
    {
     "name": "stdout",
     "output_type": "stream",
     "text": [
      "['__add__', '__class__', '__contains__', '__delattr__', '__dir__', '__doc__', '__eq__', '__format__', '__ge__', '__getattribute__', '__getitem__', '__getnewargs__', '__getstate__', '__gt__', '__hash__', '__init__', '__init_subclass__', '__iter__', '__le__', '__len__', '__lt__', '__mod__', '__mul__', '__ne__', '__new__', '__reduce__', '__reduce_ex__', '__repr__', '__rmod__', '__rmul__', '__setattr__', '__sizeof__', '__str__', '__subclasshook__', 'capitalize', 'casefold', 'center', 'count', 'encode', 'endswith', 'expandtabs', 'find', 'format', 'format_map', 'index', 'isalnum', 'isalpha', 'isascii', 'isdecimal', 'isdigit', 'isidentifier', 'islower', 'isnumeric', 'isprintable', 'isspace', 'istitle', 'isupper', 'join', 'ljust', 'lower', 'lstrip', 'maketrans', 'partition', 'removeprefix', 'removesuffix', 'replace', 'rfind', 'rindex', 'rjust', 'rpartition', 'rsplit', 'rstrip', 'split', 'splitlines', 'startswith', 'strip', 'swapcase', 'title', 'translate', 'upper', 'zfill']\n"
     ]
    }
   ],
   "source": [
    "print(dir(name))"
   ]
  },
  {
   "cell_type": "code",
   "execution_count": 61,
   "id": "c425a266",
   "metadata": {},
   "outputs": [
    {
     "data": {
      "text/plain": [
       "'NTSIKI'"
      ]
     },
     "execution_count": 61,
     "metadata": {},
     "output_type": "execute_result"
    }
   ],
   "source": [
    "name.upper()"
   ]
  },
  {
   "cell_type": "code",
   "execution_count": null,
   "id": "1bbed59c",
   "metadata": {},
   "outputs": [],
   "source": []
  }
 ],
 "metadata": {
  "kernelspec": {
   "display_name": "Python 3 (ipykernel)",
   "language": "python",
   "name": "python3"
  },
  "language_info": {
   "codemirror_mode": {
    "name": "ipython",
    "version": 3
   },
   "file_extension": ".py",
   "mimetype": "text/x-python",
   "name": "python",
   "nbconvert_exporter": "python",
   "pygments_lexer": "ipython3",
   "version": "3.11.5"
  }
 },
 "nbformat": 4,
 "nbformat_minor": 5
}
